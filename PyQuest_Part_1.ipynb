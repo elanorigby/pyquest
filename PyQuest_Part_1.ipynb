{
 "cells": [
  {
   "cell_type": "markdown",
   "metadata": {},
   "source": [
    "# Part One: I Need a Hero"
   ]
  },
  {
   "cell_type": "code",
   "execution_count": null,
   "metadata": {
    "scrolled": true
   },
   "outputs": [],
   "source": [
    "hero = \"Frodo\""
   ]
  },
  {
   "cell_type": "markdown",
   "metadata": {},
   "source": [
    "This is a variable. It is a single value that you have given a name. The value assigned to that name can change, or vary. Therefore it is called a variable."
   ]
  },
  {
   "cell_type": "code",
   "execution_count": null,
   "metadata": {},
   "outputs": [],
   "source": [
    "print(hero)"
   ]
  },
  {
   "cell_type": "markdown",
   "metadata": {},
   "source": [
    "Wouldn't it be better to ask their name?"
   ]
  },
  {
   "cell_type": "code",
   "execution_count": 4,
   "metadata": {
    "scrolled": true
   },
   "outputs": [
    {
     "name": "stdout",
     "output_type": "stream",
     "text": [
      "How are you called, stranger? Ben\n"
     ]
    },
    {
     "data": {
      "text/plain": [
       "'Ben'"
      ]
     },
     "execution_count": 4,
     "metadata": {},
     "output_type": "execute_result"
    }
   ],
   "source": [
    "input(\"How are you called, stranger? \")"
   ]
  },
  {
   "cell_type": "code",
   "execution_count": 5,
   "metadata": {},
   "outputs": [
    {
     "name": "stdout",
     "output_type": "stream",
     "text": [
      "Frodo\n"
     ]
    }
   ],
   "source": [
    "print(hero)"
   ]
  },
  {
   "cell_type": "markdown",
   "metadata": {},
   "source": [
    "Darn, it still says Frodo. That's because we didn't save the answer as the hero variable."
   ]
  },
  {
   "cell_type": "code",
   "execution_count": 6,
   "metadata": {},
   "outputs": [
    {
     "name": "stdout",
     "output_type": "stream",
     "text": [
      "How are you called, stranger? Ben\n"
     ]
    }
   ],
   "source": [
    "hero = input(\"How are you called, stranger? \")"
   ]
  },
  {
   "cell_type": "code",
   "execution_count": 7,
   "metadata": {},
   "outputs": [
    {
     "name": "stdout",
     "output_type": "stream",
     "text": [
      "Ben\n"
     ]
    }
   ],
   "source": [
    "print(hero)"
   ]
  },
  {
   "cell_type": "markdown",
   "metadata": {},
   "source": [
    "What should we do with out hero now that we know their name?"
   ]
  },
  {
   "cell_type": "code",
   "execution_count": 9,
   "metadata": {},
   "outputs": [
    {
     "name": "stdout",
     "output_type": "stream",
     "text": [
      "Welcome to Sneksville, Ben.\n"
     ]
    }
   ],
   "source": [
    "print(\"Welcome to Sneksville, {}.\".format(hero))"
   ]
  },
  {
   "cell_type": "markdown",
   "metadata": {},
   "source": [
    "A name is hardly an expression of a person's fitness for heroicism. Let's find out how far they've travelled to be here."
   ]
  },
  {
   "cell_type": "code",
   "execution_count": 10,
   "metadata": {},
   "outputs": [
    {
     "name": "stdout",
     "output_type": "stream",
     "text": [
      "Welcome to Sneksville! From whence do you hail, Ben? London\n"
     ]
    }
   ],
   "source": [
    "homeland = input(f\"Welcome to Sneksville! From whence do you hail, {hero}? \")"
   ]
  },
  {
   "cell_type": "code",
   "execution_count": 11,
   "metadata": {
    "scrolled": true
   },
   "outputs": [
    {
     "name": "stdout",
     "output_type": "stream",
     "text": [
      "Dang, Ben. London is distant, indeed\n"
     ]
    }
   ],
   "source": [
    "print(\"Dang, {name}. {place} is distant, indeed\".format(name=hero, place=homeland))"
   ]
  },
  {
   "cell_type": "markdown",
   "metadata": {},
   "source": [
    "So let's put this all together, and actually ask this person if they're interested in going on a quest."
   ]
  },
  {
   "cell_type": "code",
   "execution_count": 12,
   "metadata": {},
   "outputs": [
    {
     "name": "stdout",
     "output_type": "stream",
     "text": [
      "How are you called, stranger? Ben\n",
      "Welcome to Sneksville! From whence do you hail, Ben? London\n",
      "Dang, Ben. London is distant, indeed. You must be here for the quest. Is it not so? yes indeed\n"
     ]
    }
   ],
   "source": [
    "hero = input(\"How are you called, stranger? \")\n",
    "homeland = input(f\"Welcome to Sneksville! From whence do you hail, {hero}? \")\n",
    "mission_accepted = input(f\"Dang, {hero}. {homeland} is distant, indeed. You must be here for the quest. Is it not so? \")"
   ]
  },
  {
   "cell_type": "markdown",
   "metadata": {
    "scrolled": true
   },
   "source": [
    "This hasn't actually done us any good. How does the computer know that this response means \"on with the quest\"? We better be more explicit about what they need to say to start the quest."
   ]
  },
  {
   "cell_type": "code",
   "execution_count": 15,
   "metadata": {},
   "outputs": [
    {
     "name": "stdout",
     "output_type": "stream",
     "text": [
      "Dang, Ben. London is distant, indeed. You must be here for the quest. Is it not so? [Y/n]you bethcha\n"
     ]
    }
   ],
   "source": [
    "mission_accepted = input(f\"Dang, {hero}. {homeland} is distant, indeed. You must be here for the quest. Is it not so? [Y/n]\")"
   ]
  },
  {
   "cell_type": "markdown",
   "metadata": {},
   "source": [
    "Now we have to let the computer know that \"Y\" means \"quest time\"."
   ]
  },
  {
   "cell_type": "code",
   "execution_count": 16,
   "metadata": {},
   "outputs": [
    {
     "name": "stdout",
     "output_type": "stream",
     "text": [
      "Jolly good! Let the quest begin!\n"
     ]
    }
   ],
   "source": [
    "if mission_accepted.lower() != \"n\":\n",
    "    print(\"Jolly good! Let the quest begin!\")\n",
    "else:\n",
    "    print(\"Oh, my bad. Farewell, then.\")"
   ]
  },
  {
   "cell_type": "markdown",
   "metadata": {},
   "source": [
    "Let's put that all together"
   ]
  },
  {
   "cell_type": "code",
   "execution_count": null,
   "metadata": {},
   "outputs": [],
   "source": [
    "hero = input(\"How are you called, stranger? \")\n",
    "homeland = input(f\"Welcome to Sneksville! From whence do you hail, {hero}? \")\n",
    "mission_accepted = input(f\"Dang, {hero}. {homeland} is distant, indeed. You must be here for the quest. Is it not so? [Y/n]\")\n",
    "\n",
    "if mission_accepted.lower() != \"n\":\n",
    "    print(\"Jolly good! Let the quest begin!\")\n",
    "else:\n",
    "    print(\"Oh, my bad. Farewell, then.\")"
   ]
  },
  {
   "cell_type": "markdown",
   "metadata": {},
   "source": []
  }
 ],
 "metadata": {
  "kernelspec": {
   "display_name": "Python 3",
   "language": "python",
   "name": "python3"
  },
  "language_info": {
   "codemirror_mode": {
    "name": "ipython",
    "version": 3
   },
   "file_extension": ".py",
   "mimetype": "text/x-python",
   "name": "python",
   "nbconvert_exporter": "python",
   "pygments_lexer": "ipython3",
   "version": "3.6.1"
  }
 },
 "nbformat": 4,
 "nbformat_minor": 2
}
