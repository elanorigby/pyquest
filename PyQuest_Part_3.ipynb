{
 "cells": [
  {
   "cell_type": "markdown",
   "metadata": {},
   "source": [
    "# Part 5 - I mean 3"
   ]
  },
  {
   "cell_type": "code",
   "execution_count": 3,
   "metadata": {},
   "outputs": [
    {
     "name": "stdout",
     "output_type": "stream",
     "text": [
      "How are you called, stranger? sam\n",
      "Welcome to Sneksville! From whence do you hail, sam? samtla\n",
      "Dang, sam. samtla is distant, indeed. You must be here for the quest. Is it not so? [Y/n]s\n",
      "Jolly good! Let the quest begin!\n",
      "Well, sam. You have 3 tasks, and they won't be easy.\n"
     ]
    }
   ],
   "source": [
    "import sys\n",
    "\n",
    "hero = input(\"How are you called, stranger? \")\n",
    "homeland = input(f\"Welcome to Sneksville! From whence do you hail, {hero}? \")\n",
    "mission_accepted = input(f\"Dang, {hero}. {homeland} is distant, indeed. You must be here for the quest. Is it not so? [Y/n]\")\n",
    "\n",
    "if mission_accepted.lower() != \"n\":\n",
    "    print(\"Jolly good! Let the quest begin!\")\n",
    "else:\n",
    "    print(\"Oh, my bad. Farewell, then.\")\n",
    "    sys.exit()\n",
    "\n",
    "labors = [\"solve a riddle\", \"slay the hydra\", \"make pancakes\"]\n",
    "\n",
    "print(f\"Well, {hero}. You have {len(labors)} tasks, and they won't be easy.\")"
   ]
  },
  {
   "cell_type": "markdown",
   "metadata": {},
   "source": [
    "Slaying the hydra is pretty passé, to be honest. Heros are tired of hydras. Let's spice things up. First, we'll need a list of possible foes."
   ]
  },
  {
   "cell_type": "code",
   "execution_count": 16,
   "metadata": {},
   "outputs": [],
   "source": [
    "monsters = [\"hydra\", \"minataur\", \"balrog\", \"rancor\"]"
   ]
  },
  {
   "cell_type": "markdown",
   "metadata": {},
   "source": [
    "To get ourselves a random one of these worthy foes to fight, we will need to import the random library. \\**what is a library?*"
   ]
  },
  {
   "cell_type": "code",
   "execution_count": 18,
   "metadata": {},
   "outputs": [
    {
     "name": "stdout",
     "output_type": "stream",
     "text": [
      "First thou must defeat the rancour.\n"
     ]
    }
   ],
   "source": [
    "import random\n",
    "\n",
    "print(f\"First thou must defeat the {random.choice(monsters)}.\")"
   ]
  },
  {
   "cell_type": "markdown",
   "metadata": {},
   "source": [
    "Here *choice* is a function that belongs to the *random* class. Functions tht belong to classes are called methods. There are other methods that we can stick after \"random\" that will do different things than \"choice\" does. What all the methods have in common is that they need what the random class gives them. Don't worry about this right now, though. We'll get to classes later."
   ]
  },
  {
   "cell_type": "markdown",
   "metadata": {},
   "source": [
    "It's a bit rough to have poor {hero} fight a boss battle first thing, though. Let's start with something a little more brain than brawn. We will construct a word puzzle that they will have to unscramble in order to get a clue that will help them through the next task. This is what we need to do:<br> 1) Take a word<br> 2) re-arrange the letters<br> 3) display the re-arranged word<br> 4) accept guesses as to what the original word was<br> 5) check if the guesses are correct<br> 6) give feedback as to whether the guess was correct or not"
   ]
  },
  {
   "cell_type": "markdown",
   "metadata": {},
   "source": [
    "Try to build this as an exercise on your own before moving on. You have all the pieces except one, which I will give to you now. <br> If you need to make a list of numbers, you don't have to type out ```numlist= [1,2,3,4,5,6,7]``` and so on. That would be a huge bother. You might be thinking that you can use the list() function on a number, thusly:"
   ]
  },
  {
   "cell_type": "code",
   "execution_count": 19,
   "metadata": {},
   "outputs": [
    {
     "ename": "TypeError",
     "evalue": "'int' object is not iterable",
     "output_type": "error",
     "traceback": [
      "\u001b[0;31m----------------------------------------------------------------\u001b[0m",
      "\u001b[0;31mTypeError\u001b[0m                      Traceback (most recent call last)",
      "\u001b[0;32m<ipython-input-19-4e08ed43d668>\u001b[0m in \u001b[0;36m<module>\u001b[0;34m()\u001b[0m\n\u001b[0;32m----> 1\u001b[0;31m \u001b[0mprint\u001b[0m\u001b[0;34m(\u001b[0m\u001b[0mlist\u001b[0m\u001b[0;34m(\u001b[0m\u001b[0;36m8\u001b[0m\u001b[0;34m)\u001b[0m\u001b[0;34m)\u001b[0m\u001b[0;34m\u001b[0m\u001b[0m\n\u001b[0m",
      "\u001b[0;31mTypeError\u001b[0m: 'int' object is not iterable"
     ]
    }
   ],
   "source": [
    "print(list(8))"
   ]
  },
  {
   "cell_type": "markdown",
   "metadata": {},
   "source": []
  }
 ],
 "metadata": {
  "kernelspec": {
   "display_name": "Python 3",
   "language": "python",
   "name": "python3"
  },
  "language_info": {
   "codemirror_mode": {
    "name": "ipython",
    "version": 3
   },
   "file_extension": ".py",
   "mimetype": "text/x-python",
   "name": "python",
   "nbconvert_exporter": "python",
   "pygments_lexer": "ipython3",
   "version": "3.6.1"
  }
 },
 "nbformat": 4,
 "nbformat_minor": 2
}
