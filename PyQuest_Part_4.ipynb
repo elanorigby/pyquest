{
 "cells": [
  {
   "cell_type": "markdown",
   "metadata": {},
   "source": [
    "# Part 4 - How to Scramble a Word"
   ]
  },
  {
   "cell_type": "code",
   "execution_count": 12,
   "metadata": {},
   "outputs": [],
   "source": [
    "import random \n",
    "\n",
    "def scrambler(word):\n",
    "  letter_list = list(word)\n",
    "  idx_list = list(range(0, len(letter_list)))\n",
    "  scramble_list = []\n",
    "\n",
    "  for num in range(len(word)):\n",
    "    idx = random.choice(idx_list)\n",
    "    idx_list.remove(idx)\n",
    "    scramble_list.append(letter_list[idx])\n",
    "\n",
    "  return scramble_list\n"
   ]
  },
  {
   "cell_type": "code",
   "execution_count": 77,
   "metadata": {},
   "outputs": [
    {
     "name": "stdout",
     "output_type": "stream",
     "text": [
      "prfsseroo\n"
     ]
    }
   ],
   "source": [
    "scramble = scrambler('professor')\n",
    "print(scramble)"
   ]
  },
  {
   "cell_type": "code",
   "execution_count": 78,
   "metadata": {},
   "outputs": [
    {
     "name": "stdout",
     "output_type": "stream",
     "text": [
      "How are you called, stranger? df\n",
      "Welcome to Sneksville! From whence do you hail, df? sd\n",
      "Dang, df. sd is distant, indeed. You must be here for the quest. Is it not so? [Y/n]d\n",
      "Jolly good! Let the quest begin!\n",
      "\n",
      "    Well, df. You have 3 tasks, and they won't be easy.\n",
      "    For your first task you must solve the Riddle of the Tricksey Door!\n",
      "    Here I'll teleport you there.\n",
      "    \n"
     ]
    }
   ],
   "source": [
    "import sys\n",
    "\n",
    "hero = input(\"How are you called, stranger? \")\n",
    "homeland = input(f\"Welcome to Sneksville! From whence do you hail, {hero}? \")\n",
    "mission_accepted = input(f\"Dang, {hero}. {homeland} is distant, indeed. You must be here for the quest. Is it not so? [Y/n]\")\n",
    "\n",
    "if mission_accepted.lower() != \"n\":\n",
    "    print(\"Jolly good! Let the quest begin!\")\n",
    "else:\n",
    "    print(\"Oh, my bad. Farewell, then.\")\n",
    "    sys.exit()\n",
    "\n",
    "labors = [\"solve a riddle\", \"slay the hydra\", \"make pancakes\"]\n",
    "\n",
    "print(f\"\"\"\n",
    "    Well, {hero}. You have {len(labors)} tasks, and they won't be easy.\n",
    "    For your first task you must solve the Riddle of the Tricksey Door!\n",
    "    Here I'll teleport you there.\n",
    "    \n",
    "    ~~~Swoosh~~~\n",
    "    \"\"\")"
   ]
  },
  {
   "cell_type": "code",
   "execution_count": null,
   "metadata": {},
   "outputs": [],
   "source": [
    "import random\n",
    "\n",
    "word = 'spam'\n",
    "\n",
    "def scrambler(word):\n",
    "    letter_list = list(word)\n",
    "    # print(letter_list)\n",
    "    idx_list = list(range(len(letter_list)))\n",
    "    # print(idx_list)\n",
    "    \n",
    "    scrambled_list = []\n",
    "    \n",
    "    for num in range(len(letter_list)):\n",
    "        idx = random.choice(idx_list)\n",
    "        idx_list.remove(idx)\n",
    "        # print(idx)\n",
    "        scrambled_list.append(letter_list[idx])\n",
    "    \n",
    "    riddle = ''.join(scrambled_list)\n",
    "        \n",
    "    print(riddle)\n",
    "    \n",
    "scrambler(word)\n",
    "\n",
    "\n",
    "def guess_loop(word):\n",
    "    for itr in range(3):\n",
    "        answer = input(\"What do you think? \")\n",
    "        if answer == word:\n",
    "            print(\"Rad! On with the quest for you.\")\n",
    "            break\n",
    "        else:\n",
    "            print(\"What a failure\")\n",
    "    else:\n",
    "        print(\"tooooooo bad\")\n",
    "\n",
    "\n",
    "guess_loop(word)\n"
   ]
  }
 ],
 "metadata": {
  "kernelspec": {
   "display_name": "Python 3",
   "language": "python",
   "name": "python3"
  },
  "language_info": {
   "codemirror_mode": {
    "name": "ipython",
    "version": 3
   },
   "file_extension": ".py",
   "mimetype": "text/x-python",
   "name": "python",
   "nbconvert_exporter": "python",
   "pygments_lexer": "ipython3",
   "version": "3.6.1"
  }
 },
 "nbformat": 4,
 "nbformat_minor": 2
}
