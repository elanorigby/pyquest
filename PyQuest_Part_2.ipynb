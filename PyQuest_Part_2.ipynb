{
 "cells": [
  {
   "cell_type": "markdown",
   "metadata": {},
   "source": [
    "# Part 2: The Labors of {hero}"
   ]
  },
  {
   "cell_type": "code",
   "execution_count": null,
   "metadata": {},
   "outputs": [],
   "source": [
    "hero = input(\"How are you called, stranger? \")\n",
    "homeland = input(f\"Welcome to Sneksville! From whence do you hail, {hero}? \")\n",
    "mission_accepted = input(f\"Dang, {hero}. {homeland} is distant, indeed. You must be here for the quest. Is it not so? [Y/n]\")\n",
    "\n",
    "if mission_accepted.lower() != \"n\":\n",
    "    print(\"Jolly good! Let the quest begin!\")\n",
    "else:\n",
    "    print(\"Oh, my bad. Farewell, then.\")"
   ]
  },
  {
   "cell_type": "code",
   "execution_count": 2,
   "metadata": {},
   "outputs": [],
   "source": [
    "hero = 'Boobear'\n",
    "homeland = 'Mordor'"
   ]
  },
  {
   "cell_type": "markdown",
   "metadata": {},
   "source": [
    "We better start on this quest, then."
   ]
  },
  {
   "cell_type": "code",
   "execution_count": 3,
   "metadata": {},
   "outputs": [
    {
     "name": "stdout",
     "output_type": "stream",
     "text": [
      "['solve riddle', 'slay hydra', 'make pancakes']\n"
     ]
    }
   ],
   "source": [
    "labors = [\"solve riddle\", \"slay hydra\", \"make pancakes\"]\n",
    "print(labors)"
   ]
  },
  {
   "cell_type": "markdown",
   "metadata": {},
   "source": [
    "Why did it print out like that? That's not what we wanted. We just want the items, not the trimmings."
   ]
  },
  {
   "cell_type": "code",
   "execution_count": 4,
   "metadata": {},
   "outputs": [
    {
     "name": "stdout",
     "output_type": "stream",
     "text": [
      "solve riddle\n",
      "slay hydra\n",
      "make pancakes\n"
     ]
    }
   ],
   "source": [
    "for labor in labors:\n",
    "    print(labor)"
   ]
  },
  {
   "cell_type": "markdown",
   "metadata": {},
   "source": [
    "Perhaps we should let our hero know how much they're in for. We can do that with the len (as in length) function."
   ]
  },
  {
   "cell_type": "code",
   "execution_count": 5,
   "metadata": {},
   "outputs": [
    {
     "name": "stdout",
     "output_type": "stream",
     "text": [
      "Well, Boobear. You have but 3 tasks, but they won't be easy.\n"
     ]
    }
   ],
   "source": [
    "print(f\"Well, {hero}. You have but {len(labors)} tasks, but they won't be easy.\")"
   ]
  },
  {
   "cell_type": "markdown",
   "metadata": {},
   "source": [
    "Quick note: NEVER NAME A LIST \"LIST\". This will redefine the built in \"list\" function and totally screw you. Same goes for all the built-ins: int, str, dict"
   ]
  },
  {
   "cell_type": "markdown",
   "metadata": {},
   "source": [
    "We've not named some of these very well, let's change them. "
   ]
  },
  {
   "cell_type": "code",
   "execution_count": 6,
   "metadata": {},
   "outputs": [
    {
     "name": "stdout",
     "output_type": "stream",
     "text": [
      "solve riddle\n",
      "solve a riddle\n"
     ]
    }
   ],
   "source": [
    "print(labors[0])\n",
    "labors[0] = \"solve a riddle\"\n",
    "print(labors[0])"
   ]
  },
  {
   "cell_type": "code",
   "execution_count": 7,
   "metadata": {},
   "outputs": [
    {
     "name": "stdout",
     "output_type": "stream",
     "text": [
      "hydra index = 1\n",
      "slay hydra\n"
     ]
    }
   ],
   "source": [
    "hydra_idx = labors.index('slay hydra')\n",
    "print(f\"hydra index = {hydra_idx}\")\n",
    "print(labors[hydra_idx])"
   ]
  },
  {
   "cell_type": "code",
   "execution_count": 9,
   "metadata": {},
   "outputs": [
    {
     "name": "stdout",
     "output_type": "stream",
     "text": [
      "slay the hydra\n",
      "['solve a riddle', 'slay the hydra', 'make pancakes']\n"
     ]
    }
   ],
   "source": [
    "labors[hydra_idx] = 'slay the hydra'\n",
    "print(labors[1])\n",
    "print(labors)"
   ]
  },
  {
   "cell_type": "markdown",
   "metadata": {},
   "source": [
    "What if we want to add a labor?"
   ]
  },
  {
   "cell_type": "code",
   "execution_count": 10,
   "metadata": {},
   "outputs": [
    {
     "name": "stdout",
     "output_type": "stream",
     "text": [
      "solve a riddle\n",
      "slay the hydra\n",
      "make pancakes\n",
      "do the dishes\n"
     ]
    }
   ],
   "source": [
    "labors.append('do the dishes')\n",
    "for labor in labors:\n",
    "    print(labor)"
   ]
  },
  {
   "cell_type": "markdown",
   "metadata": {},
   "source": [
    "At this point, you may be guessing that we're going to do this for loop printing the labors again, so maybe we want a shorter way to do that. This means it's time to make a function."
   ]
  },
  {
   "cell_type": "code",
   "execution_count": 11,
   "metadata": {},
   "outputs": [],
   "source": [
    "def print_labors():\n",
    "    for labor in labors:\n",
    "        print(labor)"
   ]
  },
  {
   "cell_type": "markdown",
   "metadata": {},
   "source": [
    "You'll notice that when we ran that code, nothing happened. That's because all we've done is define the function. (def stands for define). We need to \"call\" the function in order to tell it to actually execute the code stored within."
   ]
  },
  {
   "cell_type": "code",
   "execution_count": 12,
   "metadata": {},
   "outputs": [
    {
     "name": "stdout",
     "output_type": "stream",
     "text": [
      "solve a riddle\n",
      "slay the hydra\n",
      "make pancakes\n",
      "do the dishes\n"
     ]
    }
   ],
   "source": [
    "print_labors()"
   ]
  },
  {
   "cell_type": "code",
   "execution_count": 14,
   "metadata": {},
   "outputs": [],
   "source": [
    "def print_list(alist):\n",
    "    for item in alist:\n",
    "        print(item)"
   ]
  },
  {
   "cell_type": "code",
   "execution_count": 16,
   "metadata": {},
   "outputs": [
    {
     "name": "stdout",
     "output_type": "stream",
     "text": [
      "solve a riddle\n",
      "slay the hydra\n",
      "make pancakes\n",
      "do the dishes\n"
     ]
    }
   ],
   "source": [
    "print_list(labors)"
   ]
  },
  {
   "cell_type": "markdown",
   "metadata": {},
   "source": [
    "Check that out! So much faster. Let's put this together with our code from part one."
   ]
  },
  {
   "cell_type": "code",
   "execution_count": null,
   "metadata": {},
   "outputs": [],
   "source": [
    "hero = input(\"How are you called, stranger? \")\n",
    "homeland = input(f\"Welcome to Sneksville! From whence do you hail, {hero}? \")\n",
    "mission_accepted = input(f\"Dang, {hero}. {homeland} is distant, indeed. You must be here for the quest. Is it not so? [Y/n]\")\n",
    "\n",
    "if mission_accepted.lower() != \"n\":\n",
    "    print(\"Jolly good! Let the quest begin!\")\n",
    "else:\n",
    "    print(\"Oh, my bad. Farewell, then.\")\n",
    "    "
   ]
  }
 ],
 "metadata": {
  "kernelspec": {
   "display_name": "Python 3",
   "language": "python",
   "name": "python3"
  },
  "language_info": {
   "codemirror_mode": {
    "name": "ipython",
    "version": 3
   },
   "file_extension": ".py",
   "mimetype": "text/x-python",
   "name": "python",
   "nbconvert_exporter": "python",
   "pygments_lexer": "ipython3",
   "version": "3.6.1"
  }
 },
 "nbformat": 4,
 "nbformat_minor": 2
}
